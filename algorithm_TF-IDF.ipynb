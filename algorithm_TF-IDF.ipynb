{
 "cells": [
  {
   "cell_type": "markdown",
   "metadata": {
    "id": "h9464I-uxLiw"
   },
   "source": [
    "# TF-IDF"
   ]
  },
  {
   "cell_type": "markdown",
   "metadata": {
    "id": "IvLvmewlxLix"
   },
   "source": [
    "<font face='georgia'>\n",
    "    \n",
    "   <h4><strong>What does tf-idf mean?</strong></h4>\n",
    "\n",
    "   <p>    \n",
    "Tf-idf stands for <em>term frequency-inverse document frequency</em>, and the tf-idf weight is a weight often used in information retrieval and text mining. This weight is a statistical measure used to evaluate how important a word is to a document in a collection or corpus. The importance increases proportionally to the number of times a word appears in the document but is offset by the frequency of the word in the corpus. Variations of the tf-idf weighting scheme are often used by search engines as a central tool in scoring and ranking a document's relevance given a user query.\n",
    "</p>\n",
    "    \n",
    "   <p>\n",
    "One of the simplest ranking functions is computed by summing the tf-idf for each query term; many more sophisticated ranking functions are variants of this simple model.\n",
    "</p>\n",
    "    \n",
    "   <p>\n",
    "Tf-idf can be successfully used for stop-words filtering in various subject fields including text summarization and classification.\n",
    "</p>\n",
    "    \n",
    "</font>"
   ]
  },
  {
   "cell_type": "markdown",
   "metadata": {
    "id": "4XLaGFUMxLiy"
   },
   "source": [
    "<font face='georgia'>\n",
    "    <h4><strong>How to Compute:</strong></h4>\n",
    "\n",
    "Typically, the tf-idf weight is composed by two terms: the first computes the normalized Term Frequency (TF), aka. the number of times a word appears in a document, divided by the total number of words in that document; the second term is the Inverse Document Frequency (IDF), computed as the logarithm of the number of the documents in the corpus divided by the number of documents where the specific term appears.\n",
    "\n",
    " <ul>\n",
    "    <li>\n",
    "<strong>TF:</strong> Term Frequency, which measures how frequently a term occurs in a document. Since every document is different in length, it is possible that a term would appear much more times in long documents than shorter ones. Thus, the term frequency is often divided by the document length (aka. the total number of terms in the document) as a way of normalization: <br>\n",
    "\n",
    "$TF(t) = \\frac{\\text{Number of times term t appears in a document}}{\\text{Total number of terms in the document}}.$\n",
    "</li>\n",
    "<li>\n",
    "<strong>IDF:</strong> Inverse Document Frequency, which measures how important a term is. While computing TF, all terms are considered equally important. However it is known that certain terms, such as \"is\", \"of\", and \"that\", may appear a lot of times but have little importance. Thus we need to weigh down the frequent terms while scale up the rare ones, by computing the following: <br>\n",
    "\n",
    "$IDF(t) = \\log_{e}\\frac{\\text{Total  number of documents}} {\\text{Number of documents with term t in it}}.$\n",
    "for numerical stabiltiy we will be changing this formula little bit\n",
    "$IDF(t) = \\log_{e}\\frac{\\text{Total  number of documents}} {\\text{Number of documents with term t in it}+1}.$\n",
    "</li>\n",
    "</ul>\n",
    "\n",
    "<br>\n",
    "<h4><strong>Example</strong></h4>\n",
    "<p>\n",
    "\n",
    "Consider a document containing 100 words wherein the word cat appears 3 times. The term frequency (i.e., tf) for cat is then (3 / 100) = 0.03. Now, assume we have 10 million documents and the word cat appears in one thousand of these. Then, the inverse document frequency (i.e., idf) is calculated as log(10,000,000 / 1,000) = 4. Thus, the Tf-idf weight is the product of these quantities: 0.03 * 4 = 0.12.\n",
    "</p>\n",
    "</font>"
   ]
  },
  {
   "cell_type": "markdown",
   "metadata": {
    "id": "dg2ooa4DxLiz"
   },
   "source": [
    "## Task-1"
   ]
  },
  {
   "cell_type": "markdown",
   "metadata": {
    "id": "TAcTjhO8xLiz"
   },
   "source": [
    "<font face='georgia'>\n",
    "    <h4><strong>1. Build a TFIDF Vectorizer & compare its results with Sklearn:</strong></h4>\n",
    "\n",
    "<ul>\n",
    "    <li> As a part of this task you will be implementing TFIDF vectorizer on a collection of text documents.</li>\n",
    "    <br>\n",
    "    <li> You should compare the results of your own implementation of TFIDF vectorizer with that of sklearns implemenation TFIDF vectorizer.</li>\n",
    "    <br>\n",
    "    <li> Sklearn does few more tweaks in the implementation of its version of TFIDF vectorizer, so to replicate the exact results you would need to add following things to your custom implementation of tfidf vectorizer:\n",
    "       <ol>\n",
    "        <li> Sklearn has its vocabulary generated from idf sroted in alphabetical order</li>\n",
    "        <li> Sklearn formula of idf is different from the standard textbook formula. Here the constant <strong>\"1\"</strong> is added to the numerator and denominator of the idf as if an extra document was seen containing every term in the collection exactly once, which prevents zero divisions.\n",
    "            \n",
    " $IDF(t) = 1+\\log_{e}\\frac{1\\text{ }+\\text{ Total  number of documents in collection}} {1+\\text{Number of documents with term t in it}}.$\n",
    "        </li>\n",
    "        <li> Sklearn applies L2-normalization on its output matrix.</li>\n",
    "        <li> The final output of sklearn tfidf vectorizer is a sparse matrix.</li>\n",
    "    </ol>\n",
    "    <br>\n",
    "    <li>Steps to approach this task:\n",
    "    <ol>\n",
    "        <li> You would have to write both fit and transform methods for your custom implementation of tfidf vectorizer.</li>\n",
    "        <li> Print out the alphabetically sorted voacb after you fit your data and check if its the same as that of the feature names from sklearn tfidf vectorizer. </li>\n",
    "        <li> Print out the idf values from your implementation and check if its the same as that of sklearns tfidf vectorizer idf values. </li>\n",
    "        <li> Once you get your voacb and idf values to be same as that of sklearns implementation of tfidf vectorizer, proceed to the below steps. </li>\n",
    "        <li> Make sure the output of your implementation is a sparse matrix. Before generating the final output, you need to normalize your sparse matrix using L2 normalization. You can refer to this link https://scikit-learn.org/stable/modules/generated/sklearn.preprocessing.normalize.html </li>\n",
    "        <li> After completing the above steps, print the output of your custom implementation and compare it with sklearns implementation of tfidf vectorizer.</li>\n",
    "        <li> To check the output of a single document in your collection of documents,  you can convert the sparse matrix related only to that document into dense matrix and print it.</li>\n",
    "        </ol>\n",
    "    </li>\n",
    "    <br>\n",
    "   </ul>\n",
    "\n",
    "  <p> <font color=\"#e60000\"><strong>Note-1: </strong></font> All the necessary outputs of sklearns tfidf vectorizer have been provided as reference in this notebook, you can compare your outputs as mentioned in the above steps, with these outputs.<br>\n",
    "   <font color=\"#e60000\"><strong>Note-2: </strong></font> The output of your custom implementation and that of sklearns implementation would match only with the collection of document strings provided to you as reference in this notebook. It would not match for strings that contain capital letters or punctuations, etc, because sklearn version of tfidf vectorizer deals with such strings in a different way. To know further details about how sklearn tfidf vectorizer works with such string, you can always refer to its official documentation.<br>\n",
    "   <font color=\"#e60000\"><strong>Note-3: </strong></font> During this task, it would be helpful for you to debug the code you write with print statements wherever necessary. But when you are finally submitting the assignment, make sure your code is readable and try not to print things which are not part of this task.\n",
    "    </p>"
   ]
  },
  {
   "cell_type": "markdown",
   "metadata": {
    "id": "OnV82tg1xLi0"
   },
   "source": [
    "### Corpus"
   ]
  },
  {
   "cell_type": "code",
   "execution_count": 1,
   "metadata": {
    "id": "bUsYm9wjxLi1"
   },
   "outputs": [],
   "source": [
    "## SkLearn Collection of string documents\n",
    "\n",
    "corpus = [\n",
    "     'this is the first document',\n",
    "     'this document is the second document',\n",
    "     'and this is the third one',\n",
    "     'is this the first document',\n",
    "]"
   ]
  },
  {
   "cell_type": "markdown",
   "metadata": {
    "id": "eLwmFZfKxLi4"
   },
   "source": [
    "### SkLearn Implementation"
   ]
  },
  {
   "cell_type": "code",
   "execution_count": 2,
   "metadata": {
    "id": "Np4dfQOkxLi4"
   },
   "outputs": [],
   "source": [
    "from sklearn.feature_extraction.text import TfidfVectorizer\n",
    "vectorizer = TfidfVectorizer()\n",
    "vectorizer.fit(corpus)\n",
    "skl_output = vectorizer.transform(corpus)"
   ]
  },
  {
   "cell_type": "code",
   "execution_count": 3,
   "metadata": {
    "id": "-7Om8YpYxLi6",
    "outputId": "0a3bd0f5-4424-4400-944f-4482a80bd799"
   },
   "outputs": [
    {
     "ename": "AttributeError",
     "evalue": "'TfidfVectorizer' object has no attribute 'get_feature_names'",
     "output_type": "error",
     "traceback": [
      "\u001b[0;31m---------------------------------------------------------------------------\u001b[0m",
      "\u001b[0;31mAttributeError\u001b[0m                            Traceback (most recent call last)",
      "Cell \u001b[0;32mIn[3], line 3\u001b[0m\n\u001b[1;32m      1\u001b[0m \u001b[39m# sklearn feature names, they are sorted in alphabetic order by default.\u001b[39;00m\n\u001b[0;32m----> 3\u001b[0m \u001b[39mprint\u001b[39m(vectorizer\u001b[39m.\u001b[39;49mget_feature_names())\n",
      "\u001b[0;31mAttributeError\u001b[0m: 'TfidfVectorizer' object has no attribute 'get_feature_names'"
     ]
    }
   ],
   "source": [
    "# sklearn feature names, they are sorted in alphabetic order by default.\n",
    "\n",
    "print(vectorizer.get_feature_names())"
   ]
  },
  {
   "cell_type": "code",
   "execution_count": null,
   "metadata": {
    "id": "dTKplK96xLi-",
    "outputId": "53722fa2-6756-4aa0-f179-37b578bb6890"
   },
   "outputs": [
    {
     "name": "stdout",
     "output_type": "stream",
     "text": [
      "[1.91629073 1.22314355 1.51082562 1.         1.91629073 1.91629073\n",
      " 1.         1.91629073 1.        ]\n"
     ]
    }
   ],
   "source": [
    "# Here we will print the sklearn tfidf vectorizer idf values after applying the fit method\n",
    "# After using the fit function on the corpus the vocab has 9 words in it, and each has its idf value.\n",
    "\n",
    "print(vectorizer.idf_)"
   ]
  },
  {
   "cell_type": "code",
   "execution_count": null,
   "metadata": {
    "id": "-CTiWHygxLjA",
    "outputId": "8d5a9cde-2c29-4afe-f7b4-1547e88dba4f"
   },
   "outputs": [
    {
     "data": {
      "text/plain": [
       "(4, 9)"
      ]
     },
     "execution_count": 5,
     "metadata": {
      "tags": []
     },
     "output_type": "execute_result"
    }
   ],
   "source": [
    "# shape of sklearn tfidf vectorizer output after applying transform method.\n",
    "\n",
    "skl_output.shape"
   ]
  },
  {
   "cell_type": "code",
   "execution_count": null,
   "metadata": {
    "id": "bDKEpbA-xLjD",
    "outputId": "87dafd65-5313-443f-8c6e-1b05cc8c2543"
   },
   "outputs": [
    {
     "name": "stdout",
     "output_type": "stream",
     "text": [
      "  (0, 8)\t0.38408524091481483\n",
      "  (0, 6)\t0.38408524091481483\n",
      "  (0, 3)\t0.38408524091481483\n",
      "  (0, 2)\t0.5802858236844359\n",
      "  (0, 1)\t0.46979138557992045\n"
     ]
    }
   ],
   "source": [
    "# sklearn tfidf values for first line of the above corpus.\n",
    "# Here the output is a sparse matrix\n",
    "\n",
    "print(skl_output[0])"
   ]
  },
  {
   "cell_type": "code",
   "execution_count": null,
   "metadata": {
    "id": "3QWo34hexLjF",
    "outputId": "cdc04e08-989f-4bdc-dd7f-f1c82a9f90be"
   },
   "outputs": [
    {
     "name": "stdout",
     "output_type": "stream",
     "text": [
      "[[0.         0.46979139 0.58028582 0.38408524 0.         0.\n",
      "  0.38408524 0.         0.38408524]]\n"
     ]
    }
   ],
   "source": [
    "# sklearn tfidf values for first line of the above corpus.\n",
    "# To understand the output better, here we are converting the sparse output matrix to dense matrix and printing it.\n",
    "# Notice that this output is normalized using L2 normalization. sklearn does this by default.\n",
    "\n",
    "print(skl_output[0].toarray())"
   ]
  },
  {
   "cell_type": "markdown",
   "metadata": {
    "id": "qfIwx5LzxLjI"
   },
   "source": [
    "### Your custom implementation"
   ]
  },
  {
   "cell_type": "code",
   "execution_count": 16,
   "metadata": {},
   "outputs": [],
   "source": [
    "# dependencies\n",
    "from collections import Counter\n",
    "from tqdm import tqdm\n",
    "from scipy.sparse import csr_matrix\n",
    "import math\n",
    "import operator\n",
    "from sklearn.preprocessing import normalize\n",
    "import numpy"
   ]
  },
  {
   "cell_type": "code",
   "execution_count": 17,
   "metadata": {
    "id": "HjuCcJwXxLjJ"
   },
   "outputs": [],
   "source": [
    "# Write your code here.\n",
    "# Make sure its well documented and readble with appropriate comments.\n",
    "# Compare your results with the above sklearn tfidf vectorizer\n",
    "# You are not supposed to use any other library apart from the ones given below\n",
    "\n",
    "\n",
    "\n",
    "class CustomVectorizer(object):\n",
    "    def __init__(self):\n",
    "        self.result = set()\n",
    "\n",
    "    def fit(self, corpus: list[str]):\n",
    "        \"Return collection of unique words in corpus\" \n",
    "        # result = set() # different words to be stored \n",
    "        # Check for corpus to be actual corpus\n",
    "        if not isinstance(corpus, (list)):\n",
    "            raise TypeError\n",
    "        for sentence in corpus:\n",
    "            # tokenizing sentence into words container\n",
    "            sentence = sentence.lower()\n",
    "            for word in sentence.split(\" \"):\n",
    "                # Removing letter like a, i and other raw letter\n",
    "                if len(word) >= 2:\n",
    "                    self.result.add(word)\n",
    "        self.result = sorted(list(self.result))\n",
    "        \n",
    "        vocab = {j:i for i, j in enumerate(self.result)}\n",
    "        return vocab \n",
    "    \n",
    "    def get_feature_names(self):\n",
    "        return list(self.result)\n",
    "    \n",
    "    def TF(self, corpus, vocab):\n",
    "        \"\"\"This function computes the term-frequency of corpus\n",
    "        formula = tf(W_i, R_j) = (No of times W_i occurs in R_j) / (Total words in R_j)\n",
    "\n",
    "        return: dict with term frequencies\n",
    "        \"\"\"\n",
    "        tf_ = {}\n",
    "        \n",
    "        for sentence in corpus:\n",
    "            words = sentence.split(\" \")\n",
    "            LEN = len(words)\n",
    "            freqMap = dict(Counter(words))\n",
    "            for key in vocab.keys():\n",
    "               tf_[key] = (freqMap[key]/LEN)\n",
    "        return tf_ \n",
    "      \n",
    "    def IDF(self, corpus, vocab):\n",
    "        \"\"\"This function return IDF values \n",
    "        return : dictionary contains idf vaglues\n",
    "        \"\"\"\n",
    "        idf_ = {}\n",
    "        N = len(corpus) # No of docs\n",
    "        for key in vocab.keys():\n",
    "            n = 0 # Initially key occurence is ZERO\n",
    "            for sentence in corpus:\n",
    "                if key in sentence:\n",
    "                    n = n + 1 # n is n_i \n",
    "            # Computing idf\n",
    "            idf_[key] = 1 + (math.log((1 + N)/(1 + n)) ) # as per the formula above\n",
    "        \n",
    "        return idf_\n",
    "    \n",
    "    def transform(self, corpus, vocab):\n",
    "        rows=[]\n",
    "        colums=[]\n",
    "        values=[]\n",
    "        if isinstance(corpus, (list,)):\n",
    "            for idx, sentence in enumerate(tqdm(corpus)):\n",
    "                freqMap = dict(Counter(sentence.split(\" \")))\n",
    "\n",
    "                for word, freq in freqMap.items():\n",
    "                    if len(word) >= 2:\n",
    "                        colIndex = vocab.get(word, -1)\n",
    "                        if colIndex != -1:\n",
    "                            rows.append(idx)\n",
    "                            colums.append(colIndex)\n",
    "                            values.append(freq)\n",
    "        return csr_matrix((values, (rows,colums)), shape=(len(corpus),len(vocab)))\n",
    "                \n",
    "  \n"
   ]
  },
  {
   "attachments": {},
   "cell_type": "markdown",
   "metadata": {},
   "source": [
    "``` Features matched succesfully ```"
   ]
  },
  {
   "cell_type": "code",
   "execution_count": 18,
   "metadata": {},
   "outputs": [
    {
     "name": "stdout",
     "output_type": "stream",
     "text": [
      "['and', 'document', 'first', 'is', 'one', 'second', 'the', 'third', 'this']\n"
     ]
    }
   ],
   "source": [
    "\n",
    "Vector = CustomVectorizer()\n",
    "vocab = Vector.fit(corpus)\n",
    "print(Vector.get_feature_names())"
   ]
  },
  {
   "cell_type": "code",
   "execution_count": 19,
   "metadata": {},
   "outputs": [
    {
     "name": "stdout",
     "output_type": "stream",
     "text": [
      "{'and': 1.916290731874155,\n",
      " 'document': 1.2231435513142097,\n",
      " 'first': 1.5108256237659907,\n",
      " 'is': 1.0,\n",
      " 'one': 1.916290731874155,\n",
      " 'second': 1.916290731874155,\n",
      " 'the': 1.0,\n",
      " 'third': 1.916290731874155,\n",
      " 'this': 1.0}\n"
     ]
    }
   ],
   "source": [
    "from pprint import pprint\n",
    "pprint(Vector.IDF(corpus, vocab))"
   ]
  },
  {
   "cell_type": "code",
   "execution_count": 20,
   "metadata": {},
   "outputs": [
    {
     "name": "stdout",
     "output_type": "stream",
     "text": [
      "['but', 'centerpiece', 'economic', 'economists', 'for', 'is', 'its', 'lagrange', 'method', 'multipliers', 'of', 'optimization', 'poorly', 'problems', 'solving', 'taught', 'technique', 'the', 'theory', 'unfortunately', 'usually', 'workhorse']\n"
     ]
    },
    {
     "name": "stderr",
     "output_type": "stream",
     "text": [
      "100%|██████████| 2/2 [00:00<00:00, 11586.48it/s]"
     ]
    },
    {
     "name": "stdout",
     "output_type": "stream",
     "text": [
      "[[0 0 0 1 1 1 0 1 1 1 1 1 0 1 1 0 0 2 0 0 0 1]\n",
      " [1 1 1 0 0 1 1 0 0 0 1 0 1 0 0 1 1 1 1 1 1 0]]\n"
     ]
    },
    {
     "name": "stderr",
     "output_type": "stream",
     "text": [
      "\n"
     ]
    }
   ],
   "source": [
    "strings = [\"the method of lagrange multipliers is the economists workhorse for solving optimization problems\",\n",
    "           \"the technique is a centerpiece of economic theory but unfortunately its usually taught poorly\"]\n",
    "vector = CustomVectorizer()\n",
    "vocab = vector.fit(strings)\n",
    "print(list(vocab.keys()))\n",
    "print(vector.transform(strings, vocab).toarray())"
   ]
  },
  {
   "attachments": {},
   "cell_type": "markdown",
   "metadata": {},
   "source": [
    "``` IDF values matched succesfully ```"
   ]
  },
  {
   "cell_type": "markdown",
   "metadata": {
    "id": "MMxBmVZExLjK"
   },
   "source": [
    "## Task-2"
   ]
  },
  {
   "cell_type": "markdown",
   "metadata": {
    "id": "51j_OtqAxLjL"
   },
   "source": [
    "<font face='georgia'>\n",
    "    <h4><strong>2. Implement max features functionality:</strong></h4>\n",
    "\n",
    "<ul>\n",
    "    <li> As a part of this task you have to modify your fit and transform functions so that your vocab will contain only 50 terms with top idf scores.</li>\n",
    "    <br>\n",
    "    <li>This task is similar to your previous task, just that here your vocabulary is limited to only top 50 features names based on their idf values. Basically your output will have exactly 50 columns and the number of rows will depend on the number of documents you have in your corpus.</li>\n",
    "    <br>\n",
    "    <li>Here you will be give a pickle file, with file name <strong>cleaned_strings</strong>. You would have to load the corpus from this file and use it as input to your tfidf vectorizer.</li>\n",
    "    <br>\n",
    "    <li>Steps to approach this task:\n",
    "    <ol>\n",
    "        <li> You would have to write both fit and transform methods for your custom implementation of tfidf vectorizer, just like in the previous task. Additionally, here you have to limit the number of features generated to 50 as described above.</li>\n",
    "        <li> Now sort your vocab based in descending order of idf values and print out the words in the sorted voacb after you fit your data. Here you should be getting only 50 terms in your vocab. And make sure to print idf values for each term in your vocab. </li>\n",
    "        <li> Make sure the output of your implementation is a sparse matrix. Before generating the final output, you need to normalize your sparse matrix using L2 normalization. You can refer to this link https://scikit-learn.org/stable/modules/generated/sklearn.preprocessing.normalize.html </li>\n",
    "        <li> Now check the output of a single document in your collection of documents,  you can convert the sparse matrix related only to that document into dense matrix and print it. And this dense matrix should contain 1 row and 50 columns. </li>\n",
    "        </ol>\n",
    "    </li>\n",
    "    <br>\n",
    "   </ul>"
   ]
  },
  {
   "cell_type": "code",
   "execution_count": 21,
   "metadata": {
    "id": "NHxPLlwNxLjL",
    "outputId": "9abd8e08-0e24-4975-9a13-4d3636d60323"
   },
   "outputs": [
    {
     "name": "stdout",
     "output_type": "stream",
     "text": [
      "Number of documents in corpus =  746\n"
     ]
    }
   ],
   "source": [
    "# Below is the code to load the cleaned_strings pickle file provided\n",
    "# Here corpus is of list type\n",
    "\n",
    "import pickle\n",
    "with open('cleaned_strings', 'rb') as f:\n",
    "    corpus = pickle.load(f)\n",
    "    \n",
    "# printing the length of the corpus loaded\n",
    "print(\"Number of documents in corpus = \",len(corpus))"
   ]
  },
  {
   "cell_type": "code",
   "execution_count": 57,
   "metadata": {
    "id": "ZULfoOIdxLjQ"
   },
   "outputs": [],
   "source": [
    "# Write your code here.\n",
    "# Try not to hardcode any values.\n",
    "# Make sure its well documented and readble with appropriate comments.\n",
    "import math\n",
    "from collections import Counter\n",
    "class CustomVectorizerTop50(object):\n",
    "    def fit(self, corpus: list[str]):\n",
    "        \"Return collection of unique words in corpus\" \n",
    "        result = set() # different words to be stored \n",
    "        # Check for corpus to be actual corpus\n",
    "        \n",
    "        if not isinstance(corpus, (list)):\n",
    "            raise TypeError\n",
    "        for sentence in corpus:\n",
    "            # tokenizing sentence into words container\n",
    "            sentence = sentence.lower()\n",
    "            for word in sentence.split(\" \"):\n",
    "                # Removing letter like a, i and other raw letter\n",
    "                if len(word) >= 2:\n",
    "                    result.add(word)\n",
    "        result = sorted(list(result))\n",
    "        \n",
    "        vocab = {j:i for i, j in enumerate(result)}\n",
    "        \n",
    "        return vocab \n",
    "    \n",
    "    def IDF(self, corpus, vocab):\n",
    "        idf = {}\n",
    "        N = len(corpus)\n",
    "        # Computing normal idf values\n",
    "        for key in vocab.keys():\n",
    "            n = 0\n",
    "            for sentence in corpus:\n",
    "                if key in sentence:\n",
    "                    n = n + 1\n",
    "                idf[key] = 1 + (math.log((1+N)/(1+n)))\n",
    "        # Retreiving top 50 vals \n",
    "        idf_sort = {}\n",
    "        for key in sorted(idf, key= lambda x: idf[x], reverse=True):\n",
    "            idf_sort[key] = idf[key]\n",
    "        \n",
    "        #Refer - https://www.geeksforgeeks.org/python-program-to-find-the-highest-3-values-in-a-dictionary/\n",
    "        # {word: idf-values}\n",
    "        k=Counter(idf_sort)\n",
    "        idf_50 = {}\n",
    "        top50=dict(k.most_common(50))  # List[('key', value)]\n",
    "        top_50_vocab= {}  \n",
    "        idx = 0  \n",
    "        for key in top50: # key = idx[0] , val = idx[1] \n",
    "            top_50_vocab[key] = idx\n",
    "            idf_50[key] = top50[key]\n",
    "            idx += 1 \n",
    "        return top_50_vocab, idf_50\n",
    "    \n",
    "    def transform(self, corpus, top_50_vocab):\n",
    "        rows=[]\n",
    "        colums=[]\n",
    "        values=[]\n",
    "        if isinstance(corpus, (list,)):\n",
    "            for idx, sentence in enumerate(tqdm(corpus)):\n",
    "                freqMap = dict(Counter(sentence.split(\" \")))\n",
    "\n",
    "                for word, freq in freqMap.items():\n",
    "                    if len(word) >= 2:\n",
    "                        colIndex = top_50_vocab.get(word, -1)\n",
    "                        if colIndex != -1:\n",
    "                            rows.append(idx)\n",
    "                            colums.append(colIndex)\n",
    "                            values.append(freq)\n",
    "        return normalize(csr_matrix((values, (rows,colums)), shape=(len(corpus),len(top_50_vocab))), norm='l2')\n",
    "        "
   ]
  },
  {
   "cell_type": "code",
   "execution_count": 58,
   "metadata": {},
   "outputs": [],
   "source": [
    "instance = CustomVectorizerTop50() \n",
    "vocab=  instance.fit(corpus)\n",
    "vocab50,idf50=instance.IDF(corpus,vocab)            "
   ]
  },
  {
   "cell_type": "code",
   "execution_count": 59,
   "metadata": {},
   "outputs": [
    {
     "name": "stdout",
     "output_type": "stream",
     "text": [
      "{'aailiyah': 0,\n",
      " 'abandoned': 1,\n",
      " 'abroad': 2,\n",
      " 'abstruse': 3,\n",
      " 'academy': 4,\n",
      " 'accents': 5,\n",
      " 'accessible': 6,\n",
      " 'acclaimed': 7,\n",
      " 'accolades': 8,\n",
      " 'accurately': 9,\n",
      " 'achille': 10,\n",
      " 'ackerman': 11,\n",
      " 'adams': 12,\n",
      " 'added': 13,\n",
      " 'admins': 14,\n",
      " 'admiration': 15,\n",
      " 'admitted': 16,\n",
      " 'adrift': 17,\n",
      " 'adventure': 18,\n",
      " 'aesthetically': 19,\n",
      " 'affected': 20,\n",
      " 'affleck': 21,\n",
      " 'afternoon': 22,\n",
      " 'agreed': 23,\n",
      " 'aimless': 24,\n",
      " 'aired': 25,\n",
      " 'akasha': 26,\n",
      " 'alert': 27,\n",
      " 'alike': 28,\n",
      " 'allison': 29,\n",
      " 'allowing': 30,\n",
      " 'alongside': 31,\n",
      " 'amateurish': 32,\n",
      " 'amazed': 33,\n",
      " 'amazingly': 34,\n",
      " 'amusing': 35,\n",
      " 'amust': 36,\n",
      " 'anatomist': 37,\n",
      " 'angela': 38,\n",
      " 'angelina': 39,\n",
      " 'angry': 40,\n",
      " 'anguish': 41,\n",
      " 'angus': 42,\n",
      " 'animals': 43,\n",
      " 'animated': 44,\n",
      " 'anita': 45,\n",
      " 'anniversary': 46,\n",
      " 'anthony': 47,\n",
      " 'antithesis': 48,\n",
      " 'anyway': 49}\n"
     ]
    }
   ],
   "source": [
    "from pprint import pprint\n",
    "pprint(vocab50) "
   ]
  },
  {
   "cell_type": "code",
   "execution_count": 60,
   "metadata": {},
   "outputs": [
    {
     "name": "stdout",
     "output_type": "stream",
     "text": [
      "{'aailiyah': 6.922918004572872,\n",
      " 'abandoned': 6.922918004572872,\n",
      " 'abroad': 6.922918004572872,\n",
      " 'abstruse': 6.922918004572872,\n",
      " 'academy': 6.922918004572872,\n",
      " 'accents': 6.922918004572872,\n",
      " 'accessible': 6.922918004572872,\n",
      " 'acclaimed': 6.922918004572872,\n",
      " 'accolades': 6.922918004572872,\n",
      " 'accurately': 6.922918004572872,\n",
      " 'achille': 6.922918004572872,\n",
      " 'ackerman': 6.922918004572872,\n",
      " 'adams': 6.922918004572872,\n",
      " 'added': 6.922918004572872,\n",
      " 'admins': 6.922918004572872,\n",
      " 'admiration': 6.922918004572872,\n",
      " 'admitted': 6.922918004572872,\n",
      " 'adrift': 6.922918004572872,\n",
      " 'adventure': 6.922918004572872,\n",
      " 'aesthetically': 6.922918004572872,\n",
      " 'affected': 6.922918004572872,\n",
      " 'affleck': 6.922918004572872,\n",
      " 'afternoon': 6.922918004572872,\n",
      " 'agreed': 6.922918004572872,\n",
      " 'aimless': 6.922918004572872,\n",
      " 'aired': 6.922918004572872,\n",
      " 'akasha': 6.922918004572872,\n",
      " 'alert': 6.922918004572872,\n",
      " 'alike': 6.922918004572872,\n",
      " 'allison': 6.922918004572872,\n",
      " 'allowing': 6.922918004572872,\n",
      " 'alongside': 6.922918004572872,\n",
      " 'amateurish': 6.922918004572872,\n",
      " 'amazed': 6.922918004572872,\n",
      " 'amazingly': 6.922918004572872,\n",
      " 'amusing': 6.922918004572872,\n",
      " 'amust': 6.922918004572872,\n",
      " 'anatomist': 6.922918004572872,\n",
      " 'angela': 6.922918004572872,\n",
      " 'angelina': 6.922918004572872,\n",
      " 'angry': 6.922918004572872,\n",
      " 'anguish': 6.922918004572872,\n",
      " 'angus': 6.922918004572872,\n",
      " 'animals': 6.922918004572872,\n",
      " 'animated': 6.922918004572872,\n",
      " 'anita': 6.922918004572872,\n",
      " 'anniversary': 6.922918004572872,\n",
      " 'anthony': 6.922918004572872,\n",
      " 'antithesis': 6.922918004572872,\n",
      " 'anyway': 6.922918004572872}\n"
     ]
    }
   ],
   "source": [
    "pprint(idf50)"
   ]
  },
  {
   "cell_type": "code",
   "execution_count": 61,
   "metadata": {},
   "outputs": [
    {
     "name": "stdout",
     "output_type": "stream",
     "text": [
      "['aailiyah', 'abandoned', 'abroad', 'abstruse', 'academy', 'accents', 'accessible', 'acclaimed', 'accolades', 'accurately', 'achille', 'ackerman', 'adams', 'added', 'admins', 'admiration', 'admitted', 'adrift', 'adventure', 'aesthetically', 'affected', 'affleck', 'afternoon', 'agreed', 'aimless', 'aired', 'akasha', 'alert', 'alike', 'allison', 'allowing', 'alongside', 'amateurish', 'amazed', 'amazingly', 'amusing', 'amust', 'anatomist', 'angela', 'angelina', 'angry', 'anguish', 'angus', 'animals', 'animated', 'anita', 'anniversary', 'anthony', 'antithesis', 'anyway']\n"
     ]
    },
    {
     "name": "stderr",
     "output_type": "stream",
     "text": [
      "100%|██████████| 746/746 [00:00<00:00, 84655.47it/s]"
     ]
    },
    {
     "name": "stdout",
     "output_type": "stream",
     "text": [
      "[[0. 0. 0. ... 0. 0. 0.]\n",
      " [0. 0. 0. ... 0. 0. 0.]\n",
      " [0. 0. 0. ... 0. 0. 0.]\n",
      " ...\n",
      " [0. 0. 0. ... 0. 0. 0.]\n",
      " [0. 0. 0. ... 0. 0. 0.]\n",
      " [0. 0. 0. ... 0. 0. 0.]]\n"
     ]
    },
    {
     "name": "stderr",
     "output_type": "stream",
     "text": [
      "\n"
     ]
    }
   ],
   "source": [
    "print(list(vocab50.keys()))\n",
    "print(instance.transform(corpus, vocab50).toarray())\n"
   ]
  },
  {
   "attachments": {},
   "cell_type": "markdown",
   "metadata": {},
   "source": [
    "All Test passed"
   ]
  },
  {
   "attachments": {},
   "cell_type": "markdown",
   "metadata": {},
   "source": [
    "Reference - \n",
    "```\n",
    "i.) attached notebook\n",
    "ii.) Geeks for Geeks \n",
    "iii.) Stack overflow \n",
    "iv.) Sklearn.tfiidfvectorizer \n",
    "```"
   ]
  },
  {
   "cell_type": "code",
   "execution_count": null,
   "metadata": {},
   "outputs": [],
   "source": []
  }
 ],
 "metadata": {
  "colab": {
   "collapsed_sections": [],
   "name": "Assignment_3_Instructions.ipynb",
   "provenance": []
  },
  "kernelspec": {
   "display_name": "Python 3",
   "language": "python",
   "name": "python3"
  },
  "language_info": {
   "codemirror_mode": {
    "name": "ipython",
    "version": 3
   },
   "file_extension": ".py",
   "mimetype": "text/x-python",
   "name": "python",
   "nbconvert_exporter": "python",
   "pygments_lexer": "ipython3",
   "version": "3.10.6"
  },
  "vscode": {
   "interpreter": {
    "hash": "916dbcbb3f70747c44a77c7bcd40155683ae19c65e1c03b4aa3499c5328201f1"
   }
  }
 },
 "nbformat": 4,
 "nbformat_minor": 1
}
